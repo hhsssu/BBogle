{
 "cells": [
  {
   "cell_type": "markdown",
   "id": "183b394d-e5f8-4b5a-b40f-ecbc70ee7cd2",
   "metadata": {},
   "source": [
    "## KoBERT 모델 테스트"
   ]
  },
  {
   "cell_type": "code",
   "execution_count": 13,
   "id": "555b9a00-bb71-47fa-beae-02a0edf92db9",
   "metadata": {},
   "outputs": [
    {
     "name": "stderr",
     "output_type": "stream",
     "text": [
      "The tokenizer class you load from this checkpoint is not the same type as the class this function is called from. It may result in unexpected tokenization. \n",
      "The tokenizer class you load from this checkpoint is 'KoBertTokenizer'. \n",
      "The class this function is called from is 'BertTokenizer'.\n"
     ]
    },
    {
     "name": "stdout",
     "output_type": "stream",
     "text": [
      "한줄 요약 (개조식):  • POSCO DX, 디지털 전환, 스마트 팩토리에 대한 도전과 혁신\n"
     ]
    }
   ],
   "source": [
    "import torch\n",
    "from transformers import BertTokenizer, BertModel\n",
    "import numpy as np\n",
    "from sklearn.metrics.pairwise import cosine_similarity\n",
    "\n",
    "# KoBERT 모델과 토크나이저 로드\n",
    "model_name = \"monologg/kobert\"\n",
    "tokenizer = BertTokenizer.from_pretrained(model_name)\n",
    "model = BertModel.from_pretrained(model_name)\n",
    "\n",
    "# 텍스트 설정\n",
    "text = \"\"\"\n",
    "[리딩 철강 브랜드의 변화]\n",
    "국내 최초의 등대공장, 물류 fulfillment 등의 이슈를 접하며, POSCO에 대한 관심을 가졌습니다. 그 중 빠르게 디지털 전환을 성공시켜 smart-factory를 구축시킬 수 있었던 배경인 POSCO DX에 알게 되었습니다. 계획, 제선, 제강, 연주, 압연, 도금으로 이루어진 생산방식과 물류관리 자동화 방식은 리딩 철강 브랜드로 만들기에 충분했다고 생각합니다. 또한 글로벌 기업의 기술력이 아닌 사내 고유의 인프라를 활용해 신기술을 적용했기 때문에 확장성과 안정성을 동시에 갖출 수 있었습니다.\n",
    "\"\"\"\n",
    "\n",
    "# 문장을 개별적으로 나누기\n",
    "sentences = [sentence.strip() for sentence in text.split('\\n') if sentence.strip()]\n",
    "\n",
    "# KoBERT로 각 문장의 임베딩 계산\n",
    "embeddings = []\n",
    "with torch.no_grad():\n",
    "    for sentence in sentences:\n",
    "        inputs = tokenizer(sentence, return_tensors=\"pt\", padding=True, truncation=True).to(torch.device(\"cpu\"))\n",
    "        outputs = model(**inputs)\n",
    "        cls_embedding = outputs.last_hidden_state[:, 0, :].cpu().numpy()\n",
    "        embeddings.append(cls_embedding.flatten())\n",
    "\n",
    "# 코사인 유사도로 중심 문장 찾기\n",
    "embeddings = np.array(embeddings)\n",
    "similarity_matrix = cosine_similarity(embeddings)\n",
    "sentence_scores = similarity_matrix.mean(axis=1)\n",
    "top_sentence_index = np.argmax(sentence_scores)\n",
    "headline_sentence = sentences[top_sentence_index]\n",
    "\n",
    "# 간단한 키워드 추출 및 재구성\n",
    "keywords = [\"POSCO DX\", \"디지털 전환\", \"스마트 팩토리\"]\n",
    "headline = \" • \" + \", \".join(keywords) + \"에 대한 도전과 혁신\"\n",
    "print(\"한줄 요약 (개조식):\", headline)\n"
   ]
  },
  {
   "cell_type": "code",
   "execution_count": null,
   "id": "8e67e233-6ab4-45f4-b1fb-48dd9276e642",
   "metadata": {},
   "outputs": [],
   "source": []
  },
  {
   "cell_type": "code",
   "execution_count": null,
   "id": "922999c8-480a-4b18-9721-6fa395571e40",
   "metadata": {},
   "outputs": [],
   "source": []
  },
  {
   "cell_type": "code",
   "execution_count": null,
   "id": "938a1b96-4fd3-488a-b8b9-d7c6f654c285",
   "metadata": {},
   "outputs": [],
   "source": []
  },
  {
   "cell_type": "code",
   "execution_count": null,
   "id": "fdd3e175-fa6d-4acb-9b88-fff74b28f3ba",
   "metadata": {},
   "outputs": [],
   "source": []
  }
 ],
 "metadata": {
  "kernelspec": {
   "display_name": "Python 3 (ipykernel)",
   "language": "python",
   "name": "python3"
  },
  "language_info": {
   "codemirror_mode": {
    "name": "ipython",
    "version": 3
   },
   "file_extension": ".py",
   "mimetype": "text/x-python",
   "name": "python",
   "nbconvert_exporter": "python",
   "pygments_lexer": "ipython3",
   "version": "3.12.4"
  }
 },
 "nbformat": 4,
 "nbformat_minor": 5
}
